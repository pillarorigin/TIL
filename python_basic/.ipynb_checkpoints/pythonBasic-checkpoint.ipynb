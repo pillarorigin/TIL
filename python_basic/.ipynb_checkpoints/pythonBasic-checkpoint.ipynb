{
 "cells": [
  {
   "cell_type": "code",
   "execution_count": 1,
   "metadata": {},
   "outputs": [
    {
     "name": "stdout",
     "output_type": "stream",
     "text": [
      "hello\n"
     ]
    }
   ],
   "source": [
    "print(\"hello\")"
   ]
  },
  {
   "cell_type": "code",
   "execution_count": 7,
   "metadata": {},
   "outputs": [
    {
     "name": "stdout",
     "output_type": "stream",
     "text": [
      "string concat\n",
      "stringconcat\n"
     ]
    }
   ],
   "source": [
    "a=\"string\"\n",
    "b=\"concat\"\n",
    "\n",
    "print(a,b)\n",
    "print(a + b)"
   ]
  },
  {
   "cell_type": "code",
   "execution_count": 9,
   "metadata": {},
   "outputs": [
    {
     "name": "stdout",
     "output_type": "stream",
     "text": [
      "string\n"
     ]
    }
   ],
   "source": [
    "print (a)"
   ]
  },
  {
   "cell_type": "code",
   "execution_count": 15,
   "metadata": {},
   "outputs": [
    {
     "name": "stdout",
     "output_type": "stream",
     "text": [
      "123487.4213\n",
      "str입니다\n"
     ]
    }
   ],
   "source": [
    "# 지료형\n",
    "a= 123456\n",
    "b=31.4213\n",
    "c=\"str\"\n",
    "d=True\n",
    "e=\"입니다\"\n",
    "\n",
    "# 한줄 주석\n",
    "\n",
    "\"\"\"\n",
    "다중 주석 가능\n",
    "\"\"\"\n",
    "\n",
    "result = a + b\n",
    "print(result)\n",
    "print(c+e)"
   ]
  }
 ],
 "metadata": {
  "kernelspec": {
   "display_name": "Python 3",
   "language": "python",
   "name": "python3"
  },
  "language_info": {
   "codemirror_mode": {
    "name": "ipython",
    "version": 3
   },
   "file_extension": ".py",
   "mimetype": "text/x-python",
   "name": "python",
   "nbconvert_exporter": "python",
   "pygments_lexer": "ipython3",
   "version": "3.7.5"
  }
 },
 "nbformat": 4,
 "nbformat_minor": 2
}
